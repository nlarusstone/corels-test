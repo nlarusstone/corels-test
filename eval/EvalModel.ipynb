{
 "cells": [
  {
   "cell_type": "code",
   "execution_count": 13,
   "metadata": {
    "collapsed": false
   },
   "outputs": [],
   "source": [
    "import pandas as pd\n",
    "import numpy as np\n",
    "nfolds = 10"
   ]
  },
  {
   "cell_type": "code",
   "execution_count": 22,
   "metadata": {
    "collapsed": false
   },
   "outputs": [
    {
     "name": "stdout",
     "output_type": "stream",
     "text": [
      "[['{location:transit-authority}', '1'], ['{cs_objcs:stop-reason=suspicious-object}', '1'], ['{cs_bulge:stop-reason=suspicious-bulge}', '1'], ['default', '0']]\n",
      "[['{cs_objcs:stop-reason=suspicious-object}', '1'], ['{location:transit-authority}', '1'], ['{cs_bulge:stop-reason=not-suspicious-bulge}', '0'], ['default', '1']]\n",
      "[['{location:transit-authority}', '1'], ['{cs_objcs:stop-reason=suspicious-object}', '1'], ['{cs_bulge:stop-reason=not-suspicious-bulge}', '0'], ['default', '1']]\n",
      "[['{cs_objcs:stop-reason=suspicious-object}', '1'], ['{location:transit-authority}', '1'], ['{cs_bulge:stop-reason=not-suspicious-bulge}', '0'], ['default', '1']]\n",
      "[['{location:transit-authority}', '1'], ['{cs_bulge:stop-reason=suspicious-bulge}', '1'], ['{cs_objcs:stop-reason=suspicious-object}', '1'], ['default', '0']]\n",
      "[['{location:transit-authority}', '1'], ['{cs_bulge:stop-reason=suspicious-bulge}', '1'], ['{cs_objcs:stop-reason=suspicious-object}', '1'], ['default', '0']]\n",
      "[['{cs_objcs:stop-reason=suspicious-object}', '1'], ['{location:transit-authority}', '1'], ['{cs_bulge:stop-reason=not-suspicious-bulge}', '0'], ['default', '1']]\n",
      "[['{location:transit-authority}', '1'], ['{cs_objcs:stop-reason=suspicious-object}', '1'], ['{cs_bulge:stop-reason=suspicious-bulge}', '1'], ['default', '0']]\n",
      "[['{location:transit-authority}', '1'], ['{cs_bulge:stop-reason=suspicious-bulge}', '1'], ['{cs_objcs:stop-reason=suspicious-object}', '1'], ['default', '0']]\n",
      "[['{cs_objcs:stop-reason=suspicious-object}', '1'], ['{location:transit-authority}', '1'], ['{cs_bulge:stop-reason=not-suspicious-bulge}', '0'], ['default', '1']]\n",
      "[0.8387423935091278, 0.8461798512508452, 0.8563218390804598, 0.8475321162947937, 0.8299526707234618, 0.8509127789046653, 0.8404327248140635, 0.8495605138607167, 0.8536173089925625, 0.8448275862068966]\n"
     ]
    }
   ],
   "source": [
    "test_acc = []\n",
    "froot = 'weapon'\n",
    "#yes = '{recidivate-within-two-years:Yes}'\n",
    "yes = '{weapon:yes}'\n",
    "for i in range(nfolds):\n",
    "    fname = '../jmlr/for-{0}_{1}_train.out-curious_lb-with_prefix_perm_map-minor-removed=none-max_num_nodes=1000000000-c=0.0100000-v=10-f=1000-opt.txt'.format(froot, i)\n",
    "    with open(fname, 'r') as f:\n",
    "        line = f.readline()\n",
    "        opt = map(lambda x: x.split('~'), line.split(';'))\n",
    "        #opt = map(lambda x: (x[0], int(x[1])), opt)\n",
    "        #opt = line.split(';')\n",
    "        print opt\n",
    "        \n",
    "    nrules = 0\n",
    "    with open('../data/CrossValidation/{0}_{1}_test.out'.format(froot, i)) as f:\n",
    "        line = f.readline()\n",
    "        nrules = len(line.split()) - 1\n",
    "    out = pd.read_csv('../data/CrossValidation/{0}_{1}_test.out'.format(froot, i), sep=' ', names=['Rule'] + range(nrules))\n",
    "    label = pd.read_csv('../data/CrossValidation/{0}_{1}_test.label'.format(froot, i), sep=' ', names=['Rule'] + range(nrules))\n",
    "    out.set_index('Rule', inplace=True)\n",
    "    label.set_index('Rule', inplace=True)\n",
    "    \n",
    "    captured = set()\n",
    "    preds = []\n",
    "    for (rule, pred) in opt[:-1]:\n",
    "        cappd = out.ix[rule] == 1\n",
    "        unfiltered_cappd = out.T[cappd].index\n",
    "        filtered_cappd = unfiltered_cappd.difference(captured)\n",
    "        preds += map(lambda x: (x, pred), filtered_cappd)\n",
    "        captured = captured.union(filtered_cappd)\n",
    "\n",
    "    # Handle default rule\n",
    "    _, def_pred = opt[-1]\n",
    "    preds += [(x, def_pred) for x in set(range(nrules)).difference(captured)]\n",
    "    sorted_preds = sorted(preds, key=lambda x: x[0])\n",
    "    pred_arr = pd.Series(map(lambda x: int(x[1]), sorted_preds))\n",
    "    true_arr = label.loc[yes]\n",
    "\n",
    "    cnf_mat = pd.crosstab(pred_arr, true_arr)\n",
    "    true_positive = cnf_mat[0][0]\n",
    "    false_positive = cnf_mat[1][0]\n",
    "    false_negative = cnf_mat[0][1]\n",
    "    true_negative = cnf_mat[1][1]\n",
    "    corr = float(true_positive + true_negative)\n",
    "\n",
    "    test_acc.append(corr / float(nrules))\n",
    "print test_acc"
   ]
  },
  {
   "cell_type": "code",
   "execution_count": 17,
   "metadata": {
    "collapsed": false
   },
   "outputs": [
    {
     "data": {
      "text/plain": [
       "0.01758652738768542"
      ]
     },
     "execution_count": 17,
     "metadata": {},
     "output_type": "execute_result"
    }
   ],
   "source": [
    "np.std(test_acc)"
   ]
  },
  {
   "cell_type": "code",
   "execution_count": null,
   "metadata": {
    "collapsed": true
   },
   "outputs": [],
   "source": [
    "fname = '../logs/for-bcancer.out-curiosity-with_prefix_perm_map-max_num_nodes=100000-c=0.0010000-v=1-f=1000-opt.txt'\n",
    "test_acc = []\n",
    "for i in range(nfolds):\n",
    "    fname = '../jmlr/for-compas_{0}_train.out-curious_lb-with_prefix_perm_map-minor-removed=none-max_num_nodes=1000000000-c=0.0050000-v=10-f=1000-opt.txt'.format(i)\n",
    "    with open(fname, 'r') as f:\n",
    "        line = f.readline()\n",
    "        opt = map(lambda x: x.split('~'), line.split(';'))\n",
    "        #opt = map(lambda x: (x[0], int(x[1])), opt)\n",
    "        #opt = line.split(';')\n",
    "        print opt\n",
    "        \n",
    "    nrules = 0\n",
    "    with open('../data/CrossValidation/compas_{0}_test.out'.format(i)) as f:\n",
    "        line = f.readline()\n",
    "        nrules = len(line.split()) - 1\n",
    "    out = pd.read_csv('../data/CrossValidation/compas_{0}_test.out'.format(i), sep=' ', names=['Rule'] + range(nrules))\n",
    "    label = pd.read_csv('../data/CrossValidation/compas_{0}_test.label'.format(i), sep=' ', names=['Rule'] + range(nrules))\n",
    "    out.set_index('Rule', inplace=True)\n",
    "    label.set_index('Rule', inplace=True)\n",
    "    \n",
    "    captured = set()\n",
    "    preds = []\n",
    "    for (rule, pred) in opt[:-1]:\n",
    "        cappd = out.ix[rule] == 1\n",
    "        unfiltered_cappd = out.T[cappd].index\n",
    "        filtered_cappd = unfiltered_cappd.difference(captured)\n",
    "        preds += map(lambda x: (x, pred), filtered_cappd)\n",
    "        captured = captured.union(filtered_cappd)\n",
    "\n",
    "    # Handle default rule\n",
    "    _, def_pred = opt[-1]\n",
    "    preds += [(x, def_pred) for x in set(range(nrules)).difference(captured)]\n",
    "    sorted_preds = sorted(preds, key=lambda x: x[0])\n",
    "    pred_arr = pd.Series(map(lambda x: int(x[1]), sorted_preds))\n",
    "    true_arr = label.loc['{recidivate-within-two-years:Yes}']\n",
    "\n",
    "    cnf_mat = pd.crosstab(pred_arr, true_arr)\n",
    "    true_positive = cnf_mat[0][0]\n",
    "    false_positive = cnf_mat[1][0]\n",
    "    false_negative = cnf_mat[0][1]\n",
    "    true_negative = cnf_mat[1][1]\n",
    "    corr = float(true_positive + true_negative)\n",
    "\n",
    "    test_acc.append(corr / float(nrules))\n",
    "print test_acc"
   ]
  }
 ],
 "metadata": {
  "kernelspec": {
   "display_name": "Python 2",
   "language": "python",
   "name": "python2"
  },
  "language_info": {
   "codemirror_mode": {
    "name": "ipython",
    "version": 2
   },
   "file_extension": ".py",
   "mimetype": "text/x-python",
   "name": "python",
   "nbconvert_exporter": "python",
   "pygments_lexer": "ipython2",
   "version": "2.7.10"
  }
 },
 "nbformat": 4,
 "nbformat_minor": 1
}
